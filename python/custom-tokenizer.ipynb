{
 "cells": [
  {
   "cell_type": "markdown",
   "id": "c0002766",
   "metadata": {},
   "source": [
    "# Make a Custom Tokenizer"
   ]
  },
  {
   "cell_type": "code",
   "execution_count": 22,
   "id": "bba55225",
   "metadata": {},
   "outputs": [],
   "source": [
    "from datasets import load_dataset\n",
    "\n",
    "raw_dataset = load_dataset(\"json\", data_files=\"../new-data/whisper_finetune_dataset.jsonl\", split=\"train\")\n",
    "\n",
    "# Optionally split it again\n",
    "from datasets import DatasetDict\n",
    "raw_dataset = raw_dataset.train_test_split(test_size=0.1)\n",
    "raw_dataset = DatasetDict({\n",
    "    \"train\": raw_dataset[\"train\"],\n",
    "    \"test\": raw_dataset[\"test\"]\n",
    "})"
   ]
  },
  {
   "cell_type": "code",
   "execution_count": 23,
   "id": "11c16b0f",
   "metadata": {},
   "outputs": [],
   "source": [
    "from pathlib import Path\n",
    "\n",
    "output_path = Path(\"transcripts.txt\")\n",
    "\n",
    "with output_path.open(\"w\", encoding=\"utf-8\") as f:\n",
    "    for split in raw_dataset:\n",
    "        for example in raw_dataset[split]:\n",
    "            text = example[\"text\"].strip()\n",
    "            if text:\n",
    "                f.write(text + \"\\n\")"
   ]
  },
  {
   "cell_type": "code",
   "execution_count": 24,
   "id": "27e77315",
   "metadata": {},
   "outputs": [
    {
     "name": "stdout",
     "output_type": "stream",
     "text": [
      "\n",
      "\n",
      "\n"
     ]
    },
    {
     "data": {
      "text/plain": [
       "['custom-tokenizer/vocab.json', 'custom-tokenizer/merges.txt']"
      ]
     },
     "execution_count": 24,
     "metadata": {},
     "output_type": "execute_result"
    }
   ],
   "source": [
    "from tokenizers import ByteLevelBPETokenizer\n",
    "from pathlib import Path\n",
    "\n",
    "# Point to your transcripts file\n",
    "paths = [str(Path(\"transcripts.txt\"))]\n",
    "\n",
    "# Train a BPE tokenizer\n",
    "tokenizer = ByteLevelBPETokenizer()\n",
    "tokenizer.train(files=paths, vocab_size=8000, min_frequency=2, special_tokens=[\n",
    "    \"<s>\", \"</s>\", \"<pad>\", \"<unk>\"\n",
    "])\n",
    "\n",
    "# Save in the expected format\n",
    "tokenizer.save_model(\"custom-tokenizer\")"
   ]
  },
  {
   "cell_type": "code",
   "execution_count": null,
   "id": "01c635d4",
   "metadata": {},
   "outputs": [
    {
     "data": {
      "text/plain": [
       "('custom-tokenizer/tokenizer_config.json',\n",
       " 'custom-tokenizer/special_tokens_map.json',\n",
       " 'custom-tokenizer/vocab.json',\n",
       " 'custom-tokenizer/merges.txt',\n",
       " 'custom-tokenizer/normalizer.json',\n",
       " 'custom-tokenizer/added_tokens.json')"
      ]
     },
     "execution_count": 27,
     "metadata": {},
     "output_type": "execute_result"
    }
   ],
   "source": [
    "from transformers import WhisperTokenizerFast\n",
    "hf_tokenizer = WhisperTokenizer(\n",
    "    vocab_file=\"custom-tokenizer/vocab.json\",\n",
    "    merges_file=\"custom-tokenizer/merges.txt\",\n",
    "    unk_token=\"<unk>\",\n",
    "    pad_token=\"<pad>\",\n",
    "    bos_token=\"<s>\",\n",
    "    eos_token=\"</s>\",\n",
    ")\n",
    "\n",
    "hf_tokenizer.save_pretrained(\"custom-tokenizer\")"
   ]
  },
  {
   "cell_type": "code",
   "execution_count": null,
   "id": "8a346021",
   "metadata": {},
   "outputs": [],
   "source": []
  }
 ],
 "metadata": {
  "kernelspec": {
   "display_name": "heaton",
   "language": "python",
   "name": "python3"
  },
  "language_info": {
   "codemirror_mode": {
    "name": "ipython",
    "version": 3
   },
   "file_extension": ".py",
   "mimetype": "text/x-python",
   "name": "python",
   "nbconvert_exporter": "python",
   "pygments_lexer": "ipython3",
   "version": "3.10.9"
  }
 },
 "nbformat": 4,
 "nbformat_minor": 5
}
