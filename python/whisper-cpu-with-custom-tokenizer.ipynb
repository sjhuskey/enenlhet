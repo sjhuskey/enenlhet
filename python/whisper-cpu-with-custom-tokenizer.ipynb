{
 "cells": [
  {
   "cell_type": "markdown",
   "id": "1b39b825",
   "metadata": {},
   "source": [
    "# Whisper Fine-tuning for Enenlhet Language (CPU Version)\n",
    "\n",
    "This notebook fine-tunes OpenAI's Whisper model on Enenlhet audio transcription data using **CPU-only training**. "
   ]
  },
  {
   "cell_type": "code",
   "execution_count": 1,
   "id": "6361f4a1",
   "metadata": {},
   "outputs": [],
   "source": [
    "import os\n",
    "import random\n",
    "import numpy as np\n",
    "import torch\n",
    "from datasets import Dataset, load_from_disk, Audio\n",
    "from transformers import WhisperProcessor, WhisperForConditionalGeneration, WhisperFeatureExtractor, WhisperTokenizer\n",
    "from dataclasses import dataclass\n",
    "from typing import Any, Dict, List, Union\n",
    "import evaluate\n",
    "from transformers.trainer_seq2seq import Seq2SeqTrainer\n",
    "from transformers.training_args_seq2seq import Seq2SeqTrainingArguments\n",
    "from codecarbon import EmissionsTracker\n"
   ]
  },
  {
   "cell_type": "code",
   "execution_count": 2,
   "id": "c7681840",
   "metadata": {},
   "outputs": [
    {
     "name": "stdout",
     "output_type": "stream",
     "text": [
      "⚠️ Disabling MPS backend manually\n"
     ]
    }
   ],
   "source": [
    "if torch.backends.mps.is_available():\n",
    "    print(\"⚠️ Disabling MPS backend manually\")\n",
    "    torch.backends.mps.is_built = False\n",
    "    torch.backends.mps.is_available = lambda: False"
   ]
  },
  {
   "cell_type": "code",
   "execution_count": 3,
   "id": "0d67199a",
   "metadata": {},
   "outputs": [],
   "source": [
    "output_dir = \"../whisper_finetune_cpu\"\n",
    "log_dir = \"../logs\"\n",
    "\n",
    "# If directories do not exist, create them\n",
    "os.makedirs(output_dir, exist_ok=True)\n",
    "os.makedirs(log_dir, exist_ok=True)"
   ]
  },
  {
   "cell_type": "code",
   "execution_count": 4,
   "id": "4cc87339",
   "metadata": {},
   "outputs": [],
   "source": [
    "os.environ[\"PYTORCH_ENABLE_MPS_FALLBACK\"] = \"0\"  # disables automatic fallback\n",
    "os.environ[\"CUDA_VISIBLE_DEVICES\"] = \"\"          # disables CUDA"
   ]
  },
  {
   "cell_type": "code",
   "execution_count": 5,
   "id": "4b409690",
   "metadata": {},
   "outputs": [
    {
     "data": {
      "text/plain": [
       "<torch._C.Generator at 0x12c548c30>"
      ]
     },
     "execution_count": 5,
     "metadata": {},
     "output_type": "execute_result"
    }
   ],
   "source": [
    "# Set random seed for reproducibility\n",
    "seed = 42\n",
    "random.seed(seed)\n",
    "np.random.seed(seed)\n",
    "torch.manual_seed(seed)"
   ]
  },
  {
   "cell_type": "code",
   "execution_count": 6,
   "id": "cca56901",
   "metadata": {},
   "outputs": [],
   "source": [
    "whisper_dataset = load_from_disk(\"whisper_prepared_dataset\")"
   ]
  },
  {
   "cell_type": "code",
   "execution_count": 7,
   "id": "17238737",
   "metadata": {},
   "outputs": [
    {
     "name": "stdout",
     "output_type": "stream",
     "text": [
      "Model device: cpu\n"
     ]
    }
   ],
   "source": [
    "model_name = \"openai/whisper-small\"\n",
    "model = WhisperForConditionalGeneration.from_pretrained(model_name,)\n",
    "# Load the custom tokenizer\n",
    "tokenizer = WhisperTokenizer.from_pretrained(\"custom-tokenizer\")\n",
    "feature_extractor = WhisperFeatureExtractor.from_pretrained(model_name)\n",
    "processor = WhisperProcessor(\n",
    "    feature_extractor=feature_extractor,\n",
    "    tokenizer=tokenizer\n",
    ")\n",
    "model.generation_config.forced_decoder_ids = None\n",
    "device = torch.device(\"cpu\")  # Ensure we are using CPU\n",
    "model.to(device)\n",
    "print(\"Model device:\", next(model.parameters()).device)\n"
   ]
  },
  {
   "cell_type": "code",
   "execution_count": 8,
   "id": "8ddab620",
   "metadata": {},
   "outputs": [],
   "source": [
    "@dataclass\n",
    "class DataCollatorSpeechSeq2SeqWithPadding:\n",
    "    processor: Any\n",
    "    decoder_start_token_id: int\n",
    "\n",
    "    def __call__(self, features: List[Dict[str, Union[List[int], torch.Tensor]]]) -> Dict[str, torch.Tensor]:\n",
    "        # split inputs and labels since they have to be of different lengths and need different padding methods\n",
    "        # first treat the audio inputs by simply returning torch tensors\n",
    "        input_features = [{\"input_features\": feature[\"input_features\"]} for feature in features]\n",
    "        batch = self.processor.feature_extractor.pad(input_features, return_tensors=\"pt\")\n",
    "\n",
    "        # get the tokenized label sequences\n",
    "        label_features = [{\"input_ids\": feature[\"labels\"]} for feature in features]\n",
    "        # pad the labels to max length\n",
    "        labels_batch = self.processor.tokenizer.pad(label_features, return_tensors=\"pt\")\n",
    "\n",
    "        # replace padding with -100 to ignore loss correctly\n",
    "        labels = labels_batch[\"input_ids\"].masked_fill(labels_batch.attention_mask.ne(1), -100)\n",
    "\n",
    "        # if bos token is appended in previous tokenization step,\n",
    "        # cut bos token here as it's append later anyways\n",
    "        if (labels[:, 0] == self.decoder_start_token_id).all().cpu().item():\n",
    "            labels = labels[:, 1:]\n",
    "\n",
    "        batch[\"labels\"] = labels\n",
    "\n",
    "        return batch\n",
    "\n",
    "data_collator = DataCollatorSpeechSeq2SeqWithPadding(\n",
    "    processor=processor,\n",
    "    decoder_start_token_id=model.config.decoder_start_token_id,\n",
    ")\n"
   ]
  },
  {
   "cell_type": "code",
   "execution_count": 9,
   "id": "a9af5c7d",
   "metadata": {},
   "outputs": [],
   "source": [
    "# Evaluation metric\n",
    "wer_metric = evaluate.load(\"wer\")\n",
    "\n",
    "def compute_metrics(pred):\n",
    "    pred_ids = pred.predictions\n",
    "    label_ids = pred.label_ids\n",
    "\n",
    "    # Replace -100s used for padding as we can't decode them\n",
    "    label_ids[label_ids == -100] = processor.tokenizer.pad_token_id\n",
    "\n",
    "    # Decode predictions and labels\n",
    "    pred_str = processor.tokenizer.batch_decode(pred_ids, skip_special_tokens=True)\n",
    "    label_str = processor.tokenizer.batch_decode(label_ids, skip_special_tokens=True)\n",
    "\n",
    "    # Compute WER\n",
    "    wer = wer_metric.compute(predictions=pred_str, references=label_str)\n",
    "\n",
    "    return {\"wer\": wer}"
   ]
  },
  {
   "cell_type": "code",
   "execution_count": 10,
   "id": "6be4a5bb",
   "metadata": {},
   "outputs": [],
   "source": [
    "training_args = Seq2SeqTrainingArguments(\n",
    "    output_dir=output_dir,\n",
    "    logging_dir=log_dir,\n",
    "    per_device_train_batch_size=2,\n",
    "    per_device_eval_batch_size=2,\n",
    "    gradient_accumulation_steps=4,\n",
    "    learning_rate=5e-5,\n",
    "    warmup_steps=0,\n",
    "    max_steps=2100,\n",
    "    eval_strategy=\"steps\",\n",
    "    eval_steps=300,\n",
    "    save_strategy=\"steps\",\n",
    "    save_steps=300,\n",
    "    logging_steps=10,\n",
    "    predict_with_generate=True,\n",
    "    generation_max_length=225,\n",
    "    load_best_model_at_end=True,             # ✅ needed for early stopping\n",
    "    metric_for_best_model=\"eval_wer\",        # ✅ WER is your goal\n",
    "    greater_is_better=False,                 # ✅ lower WER = better\n",
    "    fp16=False,\n",
    "    gradient_checkpointing=False,\n",
    "    report_to=[\"tensorboard\"],\n",
    ")\n"
   ]
  },
  {
   "cell_type": "code",
   "execution_count": 11,
   "id": "ebdd667e",
   "metadata": {},
   "outputs": [],
   "source": [
    "trainer = Seq2SeqTrainer(\n",
    "    args=training_args,\n",
    "    model=model,\n",
    "    train_dataset=whisper_dataset[\"train\"],\n",
    "    eval_dataset=whisper_dataset[\"test\"],\n",
    "    data_collator=data_collator,\n",
    "    compute_metrics=compute_metrics,\n",
    "    processing_class=processor,\n",
    ")"
   ]
  },
  {
   "cell_type": "code",
   "execution_count": 12,
   "id": "ce9274e1",
   "metadata": {},
   "outputs": [
    {
     "name": "stderr",
     "output_type": "stream",
     "text": [
      "[codecarbon INFO @ 15:00:49] [setup] RAM Tracking...\n",
      "[codecarbon INFO @ 15:00:49] [setup] GPU Tracking...\n",
      "[codecarbon INFO @ 15:00:49] No GPU found.\n",
      "[codecarbon INFO @ 15:00:49] [setup] CPU Tracking...\n",
      "[codecarbon WARNING @ 15:00:49] No CPU tracking mode found. Falling back on CPU constant mode.\n",
      "[codecarbon WARNING @ 15:00:49] We saw that you have a Apple M4 Pro but we don't know it. Please contact us.\n",
      "[codecarbon INFO @ 15:00:49] CPU Model on constant consumption mode: Apple M4 Pro\n",
      "[codecarbon INFO @ 15:00:49] >>> Tracker's metadata:\n",
      "[codecarbon INFO @ 15:00:49]   Platform system: macOS-15.5-arm64-arm-64bit\n",
      "[codecarbon INFO @ 15:00:49]   Python version: 3.10.9\n",
      "[codecarbon INFO @ 15:00:49]   CodeCarbon version: 2.2.2\n",
      "[codecarbon INFO @ 15:00:49]   Available RAM : 24.000 GB\n",
      "[codecarbon INFO @ 15:00:49]   CPU count: 12\n",
      "[codecarbon INFO @ 15:00:49]   CPU model: Apple M4 Pro\n",
      "[codecarbon INFO @ 15:00:49]   GPU count: None\n",
      "[codecarbon INFO @ 15:00:49]   GPU model: None\n"
     ]
    }
   ],
   "source": [
    "tracker = EmissionsTracker(\n",
    "    project_name=\"whisper-enenlhet-cpu\",\n",
    "    output_dir=log_dir,\n",
    "    output_file=\"whisper-emissions-cpu.csv\"\n",
    ")"
   ]
  },
  {
   "cell_type": "code",
   "execution_count": null,
   "id": "78d680e5",
   "metadata": {},
   "outputs": [
    {
     "name": "stderr",
     "output_type": "stream",
     "text": [
      "Passing a tuple of `past_key_values` is deprecated and will be removed in Transformers v4.43.0. You should pass an instance of `EncoderDecoderCache` instead, e.g. `past_key_values=EncoderDecoderCache.from_legacy_cache(past_key_values)`.\n"
     ]
    },
    {
     "data": {
      "text/html": [
       "\n",
       "    <div>\n",
       "      \n",
       "      <progress value='32' max='2100' style='width:300px; height:20px; vertical-align: middle;'></progress>\n",
       "      [  32/2100 04:07 < 4:43:59, 0.12 it/s, Epoch 0.05/4]\n",
       "    </div>\n",
       "    <table border=\"1\" class=\"dataframe\">\n",
       "  <thead>\n",
       " <tr style=\"text-align: left;\">\n",
       "      <th>Step</th>\n",
       "      <th>Training Loss</th>\n",
       "      <th>Validation Loss</th>\n",
       "    </tr>\n",
       "  </thead>\n",
       "  <tbody>\n",
       "  </tbody>\n",
       "</table><p>"
      ],
      "text/plain": [
       "<IPython.core.display.HTML object>"
      ]
     },
     "metadata": {},
     "output_type": "display_data"
    },
    {
     "name": "stderr",
     "output_type": "stream",
     "text": [
      "[codecarbon INFO @ 15:01:04] Energy consumed for RAM : 0.000038 kWh. RAM Power : 9.000000000000002 W\n",
      "[codecarbon INFO @ 15:01:04] Energy consumed for all CPUs : 0.000177 kWh. Total CPU Power : 42.5 W\n",
      "[codecarbon INFO @ 15:01:04] 0.000215 kWh of electricity used since the beginning.\n",
      "[codecarbon INFO @ 15:01:19] Energy consumed for RAM : 0.000075 kWh. RAM Power : 9.000000000000002 W\n",
      "[codecarbon INFO @ 15:01:19] Energy consumed for all CPUs : 0.000354 kWh. Total CPU Power : 42.5 W\n",
      "[codecarbon INFO @ 15:01:19] 0.000429 kWh of electricity used since the beginning.\n",
      "[codecarbon INFO @ 15:01:34] Energy consumed for RAM : 0.000113 kWh. RAM Power : 9.000000000000002 W\n",
      "[codecarbon INFO @ 15:01:34] Energy consumed for all CPUs : 0.000531 kWh. Total CPU Power : 42.5 W\n",
      "[codecarbon INFO @ 15:01:34] 0.000644 kWh of electricity used since the beginning.\n",
      "[codecarbon INFO @ 15:01:49] Energy consumed for RAM : 0.000150 kWh. RAM Power : 9.000000000000002 W\n",
      "[codecarbon INFO @ 15:01:49] Energy consumed for all CPUs : 0.000709 kWh. Total CPU Power : 42.5 W\n",
      "[codecarbon INFO @ 15:01:49] 0.000859 kWh of electricity used since the beginning.\n",
      "[codecarbon INFO @ 15:02:04] Energy consumed for RAM : 0.000188 kWh. RAM Power : 9.000000000000002 W\n",
      "[codecarbon INFO @ 15:02:04] Energy consumed for all CPUs : 0.000886 kWh. Total CPU Power : 42.5 W\n",
      "[codecarbon INFO @ 15:02:04] 0.001073 kWh of electricity used since the beginning.\n",
      "[codecarbon INFO @ 15:02:19] Energy consumed for RAM : 0.000225 kWh. RAM Power : 9.000000000000002 W\n",
      "[codecarbon INFO @ 15:02:19] Energy consumed for all CPUs : 0.001063 kWh. Total CPU Power : 42.5 W\n",
      "[codecarbon INFO @ 15:02:19] 0.001288 kWh of electricity used since the beginning.\n",
      "[codecarbon INFO @ 15:02:34] Energy consumed for RAM : 0.000263 kWh. RAM Power : 9.000000000000002 W\n",
      "[codecarbon INFO @ 15:02:34] Energy consumed for all CPUs : 0.001240 kWh. Total CPU Power : 42.5 W\n",
      "[codecarbon INFO @ 15:02:34] 0.001502 kWh of electricity used since the beginning.\n",
      "[codecarbon INFO @ 15:02:49] Energy consumed for RAM : 0.000300 kWh. RAM Power : 9.000000000000002 W\n",
      "[codecarbon INFO @ 15:02:49] Energy consumed for all CPUs : 0.001417 kWh. Total CPU Power : 42.5 W\n",
      "[codecarbon INFO @ 15:02:49] 0.001717 kWh of electricity used since the beginning.\n",
      "[codecarbon INFO @ 15:03:04] Energy consumed for RAM : 0.000338 kWh. RAM Power : 9.000000000000002 W\n",
      "[codecarbon INFO @ 15:03:04] Energy consumed for all CPUs : 0.001594 kWh. Total CPU Power : 42.5 W\n",
      "[codecarbon INFO @ 15:03:04] 0.001932 kWh of electricity used since the beginning.\n",
      "[codecarbon INFO @ 15:03:19] Energy consumed for RAM : 0.000375 kWh. RAM Power : 9.000000000000002 W\n",
      "[codecarbon INFO @ 15:03:19] Energy consumed for all CPUs : 0.001771 kWh. Total CPU Power : 42.5 W\n",
      "[codecarbon INFO @ 15:03:19] 0.002146 kWh of electricity used since the beginning.\n",
      "[codecarbon INFO @ 15:03:34] Energy consumed for RAM : 0.000413 kWh. RAM Power : 9.000000000000002 W\n",
      "[codecarbon INFO @ 15:03:34] Energy consumed for all CPUs : 0.001948 kWh. Total CPU Power : 42.5 W\n",
      "[codecarbon INFO @ 15:03:34] 0.002361 kWh of electricity used since the beginning.\n",
      "[codecarbon INFO @ 15:03:49] Energy consumed for RAM : 0.000450 kWh. RAM Power : 9.000000000000002 W\n",
      "[codecarbon INFO @ 15:03:49] Energy consumed for all CPUs : 0.002126 kWh. Total CPU Power : 42.5 W\n",
      "[codecarbon INFO @ 15:03:49] 0.002576 kWh of electricity used since the beginning.\n",
      "[codecarbon INFO @ 15:04:04] Energy consumed for RAM : 0.000488 kWh. RAM Power : 9.000000000000002 W\n",
      "[codecarbon INFO @ 15:04:04] Energy consumed for all CPUs : 0.002303 kWh. Total CPU Power : 42.5 W\n",
      "[codecarbon INFO @ 15:04:04] 0.002790 kWh of electricity used since the beginning.\n",
      "[codecarbon INFO @ 15:04:19] Energy consumed for RAM : 0.000525 kWh. RAM Power : 9.000000000000002 W\n",
      "[codecarbon INFO @ 15:04:19] Energy consumed for all CPUs : 0.002480 kWh. Total CPU Power : 42.5 W\n",
      "[codecarbon INFO @ 15:04:19] 0.003005 kWh of electricity used since the beginning.\n",
      "[codecarbon INFO @ 15:04:34] Energy consumed for RAM : 0.000563 kWh. RAM Power : 9.000000000000002 W\n",
      "[codecarbon INFO @ 15:04:34] Energy consumed for all CPUs : 0.002657 kWh. Total CPU Power : 42.5 W\n",
      "[codecarbon INFO @ 15:04:34] 0.003220 kWh of electricity used since the beginning.\n",
      "[codecarbon INFO @ 15:04:49] Energy consumed for RAM : 0.000600 kWh. RAM Power : 9.000000000000002 W\n",
      "[codecarbon INFO @ 15:04:49] Energy consumed for all CPUs : 0.002834 kWh. Total CPU Power : 42.5 W\n",
      "[codecarbon INFO @ 15:04:49] 0.003434 kWh of electricity used since the beginning.\n",
      "[codecarbon INFO @ 15:05:04] Energy consumed for RAM : 0.000638 kWh. RAM Power : 9.000000000000002 W\n",
      "[codecarbon INFO @ 15:05:04] Energy consumed for all CPUs : 0.003011 kWh. Total CPU Power : 42.5 W\n",
      "[codecarbon INFO @ 15:05:04] 0.003649 kWh of electricity used since the beginning.\n"
     ]
    }
   ],
   "source": [
    "try:\n",
    "    tracker.start()\n",
    "    # Train the model\n",
    "    train_result = trainer.train()\n",
    "    tracker.stop()\n",
    "    print(\"\\n🎉 Training completed successfully!\")\n",
    "    print(f\"📉 Final training loss: {train_result.training_loss:.4f}\")\n",
    "    print(f\"📊 Total training steps: {train_result.global_step}\")\n",
    "    \n",
    "    # Final evaluation\n",
    "    print(\"\\n📊 Running final evaluation...\")\n",
    "    eval_result = trainer.evaluate()\n",
    "    print(f\"📈 Final WER: {eval_result['eval_wer']:.4f}\")\n",
    "    \n",
    "    # Save final model\n",
    "    print(f\"\\n💾 Saving final model to {training_args.output_dir}\")\n",
    "    trainer.save_model()\n",
    "    processor.save_pretrained(training_args.output_dir)\n",
    "    \n",
    "    print(\"✅ Training and saving completed successfully!\")\n",
    "    \n",
    "except Exception as e:\n",
    "    print(f\"\\n❌ Training failed with error: {e}\")\n",
    "    import traceback\n",
    "    traceback.print_exc()\n",
    "    \n",
    "    # Still try to save current model state\n",
    "    print(\"💾 Attempting to save current model state...\")\n",
    "    try:\n",
    "        trainer.save_model()\n",
    "        processor.save_pretrained(training_args.output_dir)\n",
    "        print(\"✅ Model saved despite training error\")\n",
    "    except:\n",
    "        print(\"❌ Could not save model\")"
   ]
  },
  {
   "cell_type": "code",
   "execution_count": null,
   "id": "fb5dfd39",
   "metadata": {},
   "outputs": [],
   "source": [
    "import pandas as pd\n",
    "from transformers.trainer_utils import get_last_checkpoint\n",
    "\n",
    "# Load logs from TensorBoard logs (if you've enabled them)\n",
    "from tensorboard.backend.event_processing.event_accumulator import EventAccumulator\n",
    "\n",
    "event_acc = EventAccumulator(log_dir)  # log_dir from your training_args\n",
    "event_acc.Reload()\n",
    "\n",
    "# Get WER logs\n",
    "wer_events = event_acc.Scalars(\"eval/wer\")\n",
    "steps = [e.step for e in wer_events]\n",
    "wers = [e.value for e in wer_events]\n",
    "\n",
    "# Plot\n",
    "import matplotlib.pyplot as plt\n",
    "\n",
    "plt.plot(steps, wers)\n",
    "plt.xlabel(\"Training Step\")\n",
    "plt.ylabel(\"WER\")\n",
    "plt.title(\"WER over time\")\n",
    "plt.grid(True)\n",
    "plt.show()\n"
   ]
  }
 ],
 "metadata": {
  "kernelspec": {
   "display_name": "heaton",
   "language": "python",
   "name": "python3"
  },
  "language_info": {
   "codemirror_mode": {
    "name": "ipython",
    "version": 3
   },
   "file_extension": ".py",
   "mimetype": "text/x-python",
   "name": "python",
   "nbconvert_exporter": "python",
   "pygments_lexer": "ipython3",
   "version": "3.10.9"
  }
 },
 "nbformat": 4,
 "nbformat_minor": 5
}
