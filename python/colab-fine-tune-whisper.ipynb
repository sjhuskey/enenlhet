{
 "cells": [
  {
   "cell_type": "markdown",
   "id": "32b0a690",
   "metadata": {},
   "source": [
    "## Fine-Tuning Whisper\n",
    "\n",
    "I'm going to try fine-tuning a Whisper model in Google Colab.\n",
    "\n",
    "I'll need to add some Python libraries to the Colab environment:"
   ]
  },
  {
   "cell_type": "code",
   "execution_count": null,
   "id": "d744d81c",
   "metadata": {},
   "outputs": [],
   "source": [
    "!pip install -q transformers datasets torchaudio accelerate codecarbon soundfile ffmpeg-python dropbox requests"
   ]
  },
  {
   "cell_type": "code",
   "execution_count": 2,
   "id": "2be16da7",
   "metadata": {},
   "outputs": [],
   "source": [
    "from codecarbon import EmissionsTracker\n",
    "from datasets import load_dataset\n",
    "import evaluate\n",
    "import numpy as np\n",
    "from transformers import WhisperProcessor, WhisperForConditionalGeneration\n",
    "from transformers import TrainingArguments, Trainer\n",
    "import dropbox_util\n"
   ]
  },
  {
   "cell_type": "markdown",
   "id": "f9c97119",
   "metadata": {},
   "source": [
    "## Connect Dropbox"
   ]
  },
  {
   "cell_type": "code",
   "execution_count": null,
   "id": "f3947cea",
   "metadata": {},
   "outputs": [],
   "source": [
    "# Usage\n",
    "dropbox_root = \"/ColabStorage/enenlhet\"\n",
    "local_root = \"./enenlhet_data\"\n",
    "\n",
    "dropbox_util.sync_fine_tuning_data(dropbox_root, local_root)"
   ]
  }
 ],
 "metadata": {
  "kernelspec": {
   "display_name": "heaton",
   "language": "python",
   "name": "python3"
  },
  "language_info": {
   "codemirror_mode": {
    "name": "ipython",
    "version": 3
   },
   "file_extension": ".py",
   "mimetype": "text/x-python",
   "name": "python",
   "nbconvert_exporter": "python",
   "pygments_lexer": "ipython3",
   "version": "3.10.9"
  }
 },
 "nbformat": 4,
 "nbformat_minor": 5
}
